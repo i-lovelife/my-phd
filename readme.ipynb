{
 "cells": [
  {
   "cell_type": "markdown",
   "metadata": {},
   "source": [
    "# my-phd\n",
    "*In order to finish my phd, first I have to understand what ability I need*\n",
    "* ### expressing\n",
    "  * #### writing\n",
    "  * #### presentation\n",
    "* ### thinking\n",
    "  * #### reading paper\n",
    "  * #### thinking and come up new idea\n",
    "  * #### learning new algorithm\n",
    "* ### coding\n",
    "  * #### reading doc\n",
    "  * #### fast constructing\n",
    "  * #### reading code\n",
    "  * #### debugging\n",
    "* ### social"
   ]
  }
 ],
 "metadata": {
  "kernelspec": {
   "display_name": "Python 3",
   "language": "python",
   "name": "python3"
  }
 },
 "nbformat": 4,
 "nbformat_minor": 2
}
